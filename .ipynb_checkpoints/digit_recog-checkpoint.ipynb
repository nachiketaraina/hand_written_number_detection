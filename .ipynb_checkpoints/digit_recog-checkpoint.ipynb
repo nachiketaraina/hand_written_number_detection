{
 "cells": [
  {
   "cell_type": "code",
   "execution_count": 108,
   "metadata": {},
   "outputs": [],
   "source": [
    "import numpy as np\n",
    "import pandas as pd\n",
    "from keras.losses import categorical_crossentropy\n",
    "from sklearn.model_selection import train_test_split\n",
    "from keras.layers import Dense\n",
    "from keras.models import Sequential\n",
    "from sklearn.preprocessing import OneHotEncoder\n",
    "import cv2\n",
    "import matplotlib.pyplot as plt"
   ]
  },
  {
   "cell_type": "code",
   "execution_count": 109,
   "metadata": {},
   "outputs": [],
   "source": [
    "dat = pd.read_csv(\"../data_sets/mnist_train_small.csv\").values"
   ]
  },
  {
   "cell_type": "code",
   "execution_count": 110,
   "metadata": {},
   "outputs": [],
   "source": [
    "X = dat[:,2:]\n",
    "y= dat[:,1]"
   ]
  },
  {
   "cell_type": "code",
   "execution_count": 111,
   "metadata": {},
   "outputs": [],
   "source": [
    "ohe=OneHotEncoder(categories=\"auto\")\n"
   ]
  },
  {
   "cell_type": "code",
   "execution_count": 112,
   "metadata": {},
   "outputs": [
    {
     "data": {
      "text/plain": [
       "array([0, 4, 1, 9, 2, 1, 3, 1, 4, 3], dtype=int64)"
      ]
     },
     "execution_count": 112,
     "metadata": {},
     "output_type": "execute_result"
    }
   ],
   "source": [
    "y[:10]"
   ]
  },
  {
   "cell_type": "code",
   "execution_count": 113,
   "metadata": {},
   "outputs": [],
   "source": [
    "y_hot=ohe.fit_transform(y.reshape(-1,1)) .todense()"
   ]
  },
  {
   "cell_type": "code",
   "execution_count": 134,
   "metadata": {},
   "outputs": [
    {
     "name": "stdout",
     "output_type": "stream",
     "text": [
      "[[1. 0. 0. 0. 0. 0. 0. 0. 0. 0.]\n",
      " [0. 0. 0. 0. 1. 0. 0. 0. 0. 0.]\n",
      " [0. 1. 0. 0. 0. 0. 0. 0. 0. 0.]\n",
      " [0. 0. 0. 0. 0. 0. 0. 0. 0. 1.]\n",
      " [0. 0. 1. 0. 0. 0. 0. 0. 0. 0.]\n",
      " [0. 1. 0. 0. 0. 0. 0. 0. 0. 0.]\n",
      " [0. 0. 0. 1. 0. 0. 0. 0. 0. 0.]\n",
      " [0. 1. 0. 0. 0. 0. 0. 0. 0. 0.]\n",
      " [0. 0. 0. 0. 1. 0. 0. 0. 0. 0.]\n",
      " [0. 0. 0. 1. 0. 0. 0. 0. 0. 0.]]\n"
     ]
    }
   ],
   "source": [
    "print(y_hot[:10])"
   ]
  },
  {
   "cell_type": "code",
   "execution_count": 115,
   "metadata": {},
   "outputs": [],
   "source": [
    " X_train, X_test, y_train, y_test = train_test_split(\n",
    "...     X, y_hot, test_size=0.33, random_state=42)"
   ]
  },
  {
   "cell_type": "code",
   "execution_count": 116,
   "metadata": {},
   "outputs": [],
   "source": [
    "layer1=Dense(100,activation=\"tanh\",input_shape=([X.shape[1]]))\n",
    "layer2=Dense(100,activation=\"tanh\")\n",
    "layer3=Dense(y_hot.shape[1],activation=\"softmax\")"
   ]
  },
  {
   "cell_type": "code",
   "execution_count": 117,
   "metadata": {},
   "outputs": [
    {
     "data": {
      "text/plain": [
       "<bound method Network.summary of <keras.engine.sequential.Sequential object at 0x000001F681228B00>>"
      ]
     },
     "execution_count": 117,
     "metadata": {},
     "output_type": "execute_result"
    }
   ],
   "source": [
    "model=Sequential()\n",
    "model.add(layer1)\n",
    "model.add(layer2)\n",
    "model.add(layer3)\n",
    "model.summary"
   ]
  },
  {
   "cell_type": "code",
   "execution_count": 118,
   "metadata": {},
   "outputs": [],
   "source": [
    "model.compile(optimizer=\"adam\", loss=\"categorical_crossentropy\", metrics=[\"accuracy\"])"
   ]
  },
  {
   "cell_type": "code",
   "execution_count": 119,
   "metadata": {},
   "outputs": [
    {
     "name": "stdout",
     "output_type": "stream",
     "text": [
      "Epoch 1/100\n",
      "5360/5360 [==============================] - 0s 78us/step - loss: 1.5340 - acc: 0.5220\n",
      "Epoch 2/100\n",
      "5360/5360 [==============================] - 0s 30us/step - loss: 0.7904 - acc: 0.7851\n",
      "Epoch 3/100\n",
      "5360/5360 [==============================] - 0s 29us/step - loss: 0.5878 - acc: 0.8257\n",
      "Epoch 4/100\n",
      "5360/5360 [==============================] - 0s 33us/step - loss: 0.5087 - acc: 0.8528\n",
      "Epoch 5/100\n",
      "5360/5360 [==============================] - 0s 31us/step - loss: 0.4343 - acc: 0.8744\n",
      "Epoch 6/100\n",
      "5360/5360 [==============================] - 0s 39us/step - loss: 0.4117 - acc: 0.8802\n",
      "Epoch 7/100\n",
      "5360/5360 [==============================] - 0s 31us/step - loss: 0.4006 - acc: 0.8791\n",
      "Epoch 8/100\n",
      "5360/5360 [==============================] - 0s 30us/step - loss: 0.3771 - acc: 0.8862\n",
      "Epoch 9/100\n",
      "5360/5360 [==============================] - 0s 36us/step - loss: 0.3355 - acc: 0.8978\n",
      "Epoch 10/100\n",
      "5360/5360 [==============================] - 0s 47us/step - loss: 0.3290 - acc: 0.8987\n",
      "Epoch 11/100\n",
      "5360/5360 [==============================] - 0s 30us/step - loss: 0.3234 - acc: 0.9004\n",
      "Epoch 12/100\n",
      "5360/5360 [==============================] - 0s 30us/step - loss: 0.3208 - acc: 0.9045\n",
      "Epoch 13/100\n",
      "5360/5360 [==============================] - 0s 30us/step - loss: 0.3131 - acc: 0.9045\n",
      "Epoch 14/100\n",
      "5360/5360 [==============================] - 0s 29us/step - loss: 0.2955 - acc: 0.9104\n",
      "Epoch 15/100\n",
      "5360/5360 [==============================] - 0s 29us/step - loss: 0.2970 - acc: 0.9065\n",
      "Epoch 16/100\n",
      "5360/5360 [==============================] - 0s 30us/step - loss: 0.3014 - acc: 0.9080\n",
      "Epoch 17/100\n",
      "5360/5360 [==============================] - 0s 30us/step - loss: 0.2810 - acc: 0.9121\n",
      "Epoch 18/100\n",
      "5360/5360 [==============================] - 0s 30us/step - loss: 0.2979 - acc: 0.9084\n",
      "Epoch 19/100\n",
      "5360/5360 [==============================] - 0s 30us/step - loss: 0.3050 - acc: 0.9037\n",
      "Epoch 20/100\n",
      "5360/5360 [==============================] - 0s 30us/step - loss: 0.2830 - acc: 0.9144\n",
      "Epoch 21/100\n",
      "5360/5360 [==============================] - 0s 32us/step - loss: 0.2803 - acc: 0.9129\n",
      "Epoch 22/100\n",
      "5360/5360 [==============================] - 0s 48us/step - loss: 0.2693 - acc: 0.9134\n",
      "Epoch 23/100\n",
      "5360/5360 [==============================] - 0s 34us/step - loss: 0.2625 - acc: 0.9140\n",
      "Epoch 24/100\n",
      "5360/5360 [==============================] - 0s 32us/step - loss: 0.2431 - acc: 0.9267\n",
      "Epoch 25/100\n",
      "5360/5360 [==============================] - 0s 30us/step - loss: 0.2353 - acc: 0.9267\n",
      "Epoch 26/100\n",
      "5360/5360 [==============================] - 0s 33us/step - loss: 0.2326 - acc: 0.9287\n",
      "Epoch 27/100\n",
      "5360/5360 [==============================] - 0s 33us/step - loss: 0.2302 - acc: 0.9259\n",
      "Epoch 28/100\n",
      "5360/5360 [==============================] - 0s 34us/step - loss: 0.2376 - acc: 0.9239\n",
      "Epoch 29/100\n",
      "5360/5360 [==============================] - 0s 35us/step - loss: 0.2260 - acc: 0.9280\n",
      "Epoch 30/100\n",
      "5360/5360 [==============================] - 0s 33us/step - loss: 0.2279 - acc: 0.9287\n",
      "Epoch 31/100\n",
      "5360/5360 [==============================] - 0s 30us/step - loss: 0.2338 - acc: 0.9229\n",
      "Epoch 32/100\n",
      "5360/5360 [==============================] - 0s 32us/step - loss: 0.2223 - acc: 0.9278\n",
      "Epoch 33/100\n",
      "5360/5360 [==============================] - 0s 35us/step - loss: 0.2263 - acc: 0.9239\n",
      "Epoch 34/100\n",
      "5360/5360 [==============================] - 0s 34us/step - loss: 0.2320 - acc: 0.9278\n",
      "Epoch 35/100\n",
      "5360/5360 [==============================] - 0s 42us/step - loss: 0.2327 - acc: 0.9252\n",
      "Epoch 36/100\n",
      "5360/5360 [==============================] - 0s 36us/step - loss: 0.2265 - acc: 0.9289\n",
      "Epoch 37/100\n",
      "5360/5360 [==============================] - 0s 34us/step - loss: 0.2242 - acc: 0.9252\n",
      "Epoch 38/100\n",
      "5360/5360 [==============================] - 0s 35us/step - loss: 0.2150 - acc: 0.9326\n",
      "Epoch 39/100\n",
      "5360/5360 [==============================] - 0s 40us/step - loss: 0.2213 - acc: 0.9312\n",
      "Epoch 40/100\n",
      "5360/5360 [==============================] - 0s 49us/step - loss: 0.2277 - acc: 0.9269\n",
      "Epoch 41/100\n",
      "5360/5360 [==============================] - 0s 37us/step - loss: 0.2220 - acc: 0.9293\n",
      "Epoch 42/100\n",
      "5360/5360 [==============================] - 0s 33us/step - loss: 0.2068 - acc: 0.9366\n",
      "Epoch 43/100\n",
      "5360/5360 [==============================] - 0s 36us/step - loss: 0.2046 - acc: 0.9345\n",
      "Epoch 44/100\n",
      "5360/5360 [==============================] - 0s 31us/step - loss: 0.2081 - acc: 0.9330\n",
      "Epoch 45/100\n",
      "5360/5360 [==============================] - 0s 33us/step - loss: 0.2051 - acc: 0.9328\n",
      "Epoch 46/100\n",
      "5360/5360 [==============================] - 0s 36us/step - loss: 0.2085 - acc: 0.9308\n",
      "Epoch 47/100\n",
      "5360/5360 [==============================] - 0s 36us/step - loss: 0.1956 - acc: 0.9390\n",
      "Epoch 48/100\n",
      "5360/5360 [==============================] - 0s 36us/step - loss: 0.1839 - acc: 0.9397\n",
      "Epoch 49/100\n",
      "5360/5360 [==============================] - 0s 32us/step - loss: 0.1847 - acc: 0.9418\n",
      "Epoch 50/100\n",
      "5360/5360 [==============================] - 0s 33us/step - loss: 0.1860 - acc: 0.9390\n",
      "Epoch 51/100\n",
      "5360/5360 [==============================] - 0s 37us/step - loss: 0.1885 - acc: 0.9401\n",
      "Epoch 52/100\n",
      "5360/5360 [==============================] - 0s 34us/step - loss: 0.1855 - acc: 0.9418\n",
      "Epoch 53/100\n",
      "5360/5360 [==============================] - 0s 31us/step - loss: 0.1866 - acc: 0.9384\n",
      "Epoch 54/100\n",
      "5360/5360 [==============================] - 0s 32us/step - loss: 0.1833 - acc: 0.9392\n",
      "Epoch 55/100\n",
      "5360/5360 [==============================] - 0s 29us/step - loss: 0.1736 - acc: 0.9416\n",
      "Epoch 56/100\n",
      "5360/5360 [==============================] - 0s 29us/step - loss: 0.1740 - acc: 0.9451\n",
      "Epoch 57/100\n",
      "5360/5360 [==============================] - 0s 30us/step - loss: 0.1812 - acc: 0.9403\n",
      "Epoch 58/100\n",
      "5360/5360 [==============================] - 0s 30us/step - loss: 0.1756 - acc: 0.9435\n",
      "Epoch 59/100\n",
      "5360/5360 [==============================] - 0s 33us/step - loss: 0.1795 - acc: 0.9399\n",
      "Epoch 60/100\n",
      "5360/5360 [==============================] - 0s 25us/step - loss: 0.1782 - acc: 0.9438\n",
      "Epoch 61/100\n",
      "5360/5360 [==============================] - 0s 25us/step - loss: 0.1726 - acc: 0.9472\n",
      "Epoch 62/100\n",
      "5360/5360 [==============================] - 0s 34us/step - loss: 0.1746 - acc: 0.9463\n",
      "Epoch 63/100\n",
      "5360/5360 [==============================] - 0s 48us/step - loss: 0.1871 - acc: 0.9401: 0s - loss: 0.1658 - acc: 0.\n",
      "Epoch 64/100\n",
      "5360/5360 [==============================] - 0s 33us/step - loss: 0.1894 - acc: 0.9427\n",
      "Epoch 65/100\n",
      "5360/5360 [==============================] - 0s 43us/step - loss: 0.1983 - acc: 0.9366\n",
      "Epoch 66/100\n",
      "5360/5360 [==============================] - 0s 48us/step - loss: 0.1865 - acc: 0.9410\n",
      "Epoch 67/100\n",
      "5360/5360 [==============================] - 0s 43us/step - loss: 0.1909 - acc: 0.9362\n",
      "Epoch 68/100\n",
      "5360/5360 [==============================] - 0s 33us/step - loss: 0.1938 - acc: 0.9381\n",
      "Epoch 69/100\n",
      "5360/5360 [==============================] - 0s 35us/step - loss: 0.1838 - acc: 0.9401: 0s - loss: 0.1812 - acc: 0.940\n",
      "Epoch 70/100\n",
      "5360/5360 [==============================] - 0s 34us/step - loss: 0.1794 - acc: 0.9418\n",
      "Epoch 71/100\n",
      "5360/5360 [==============================] - 0s 39us/step - loss: 0.1931 - acc: 0.9396\n",
      "Epoch 72/100\n",
      "5360/5360 [==============================] - 0s 36us/step - loss: 0.1862 - acc: 0.9414\n",
      "Epoch 73/100\n",
      "5360/5360 [==============================] - 0s 37us/step - loss: 0.2111 - acc: 0.9323\n",
      "Epoch 74/100\n",
      "5360/5360 [==============================] - 0s 43us/step - loss: 0.2182 - acc: 0.9285\n",
      "Epoch 75/100\n",
      "5360/5360 [==============================] - 0s 43us/step - loss: 0.2079 - acc: 0.9334\n",
      "Epoch 76/100\n",
      "5360/5360 [==============================] - 0s 40us/step - loss: 0.2141 - acc: 0.9323\n",
      "Epoch 77/100\n",
      "5360/5360 [==============================] - 0s 44us/step - loss: 0.2038 - acc: 0.9315\n",
      "Epoch 78/100\n",
      "5360/5360 [==============================] - 0s 39us/step - loss: 0.1871 - acc: 0.9392\n",
      "Epoch 79/100\n",
      "5360/5360 [==============================] - 0s 38us/step - loss: 0.1905 - acc: 0.9388\n",
      "Epoch 80/100\n",
      "5360/5360 [==============================] - 0s 52us/step - loss: 0.1741 - acc: 0.9455\n",
      "Epoch 81/100\n",
      "5360/5360 [==============================] - 0s 37us/step - loss: 0.1734 - acc: 0.9457\n",
      "Epoch 82/100\n",
      "5360/5360 [==============================] - 0s 39us/step - loss: 0.1698 - acc: 0.9465\n",
      "Epoch 83/100\n",
      "5360/5360 [==============================] - 0s 37us/step - loss: 0.1752 - acc: 0.9453\n",
      "Epoch 84/100\n",
      "5360/5360 [==============================] - 0s 37us/step - loss: 0.1685 - acc: 0.9481\n",
      "Epoch 85/100\n",
      "5360/5360 [==============================] - 0s 35us/step - loss: 0.1706 - acc: 0.9448\n",
      "Epoch 86/100\n",
      "5360/5360 [==============================] - 0s 42us/step - loss: 0.1743 - acc: 0.9422\n",
      "Epoch 87/100\n",
      "5360/5360 [==============================] - 0s 44us/step - loss: 0.1734 - acc: 0.9438\n",
      "Epoch 88/100\n",
      "5360/5360 [==============================] - 0s 33us/step - loss: 0.1770 - acc: 0.9457\n",
      "Epoch 89/100\n",
      "5360/5360 [==============================] - 0s 33us/step - loss: 0.1902 - acc: 0.9405\n",
      "Epoch 90/100\n",
      "5360/5360 [==============================] - 0s 31us/step - loss: 0.1914 - acc: 0.9382\n",
      "Epoch 91/100\n",
      "5360/5360 [==============================] - 0s 31us/step - loss: 0.1756 - acc: 0.9429\n",
      "Epoch 92/100\n",
      "5360/5360 [==============================] - 0s 33us/step - loss: 0.1605 - acc: 0.9472\n",
      "Epoch 93/100\n",
      "5360/5360 [==============================] - 0s 45us/step - loss: 0.1482 - acc: 0.9509\n",
      "Epoch 94/100\n",
      "5360/5360 [==============================] - 0s 34us/step - loss: 0.1463 - acc: 0.9519\n",
      "Epoch 95/100\n",
      "5360/5360 [==============================] - 0s 38us/step - loss: 0.1558 - acc: 0.9509\n",
      "Epoch 96/100\n",
      "5360/5360 [==============================] - 0s 56us/step - loss: 0.1608 - acc: 0.9474\n",
      "Epoch 97/100\n",
      "5360/5360 [==============================] - 0s 37us/step - loss: 0.1571 - acc: 0.9491\n",
      "Epoch 98/100\n",
      "5360/5360 [==============================] - 0s 31us/step - loss: 0.1585 - acc: 0.9479\n",
      "Epoch 99/100\n",
      "5360/5360 [==============================] - 0s 30us/step - loss: 0.1457 - acc: 0.9517\n",
      "Epoch 100/100\n",
      "5360/5360 [==============================] - 0s 32us/step - loss: 0.1475 - acc: 0.9500\n"
     ]
    },
    {
     "data": {
      "text/plain": [
       "<keras.callbacks.History at 0x1f681241d30>"
      ]
     },
     "execution_count": 119,
     "metadata": {},
     "output_type": "execute_result"
    }
   ],
   "source": [
    "model.fit(X_train,y_train,epochs=100,batch_size=200)"
   ]
  },
  {
   "cell_type": "code",
   "execution_count": 120,
   "metadata": {},
   "outputs": [
    {
     "name": "stdout",
     "output_type": "stream",
     "text": [
      "2640/2640 [==============================] - 0s 61us/step\n"
     ]
    },
    {
     "data": {
      "text/plain": [
       "[0.2884362551750559, 0.9136363636363637]"
      ]
     },
     "execution_count": 120,
     "metadata": {},
     "output_type": "execute_result"
    }
   ],
   "source": [
    "model.evaluate(X_test,y_test)"
   ]
  },
  {
   "cell_type": "code",
   "execution_count": 173,
   "metadata": {},
   "outputs": [],
   "source": [
    "one=cv2.imread(\"two.jpeg\")\n",
    "gray=cv2.cvtColor(one,cv2.COLOR_BGR2GRAY)\n",
    "small=cv2.resize(gray,(28,28))\n",
    "small = (small < 100).astype(int) * 255\n"
   ]
  },
  {
   "cell_type": "code",
   "execution_count": 174,
   "metadata": {},
   "outputs": [
    {
     "data": {
      "text/plain": [
       "<matplotlib.image.AxesImage at 0x1f6802bcf98>"
      ]
     },
     "execution_count": 174,
     "metadata": {},
     "output_type": "execute_result"
    },
    {
     "data": {
      "image/png": "[encoded data removed]",
      "text/plain": [
       "<Figure size 432x288 with 1 Axes>"
      ]
     },
     "metadata": {
      "needs_background": "light"
     },
     "output_type": "display_data"
    }
   ],
   "source": [
    "plt.imshow(small)"
   ]
  },
  {
   "cell_type": "code",
   "execution_count": 175,
   "metadata": {},
   "outputs": [
    {
     "data": {
      "text/plain": [
       "2"
      ]
     },
     "execution_count": 175,
     "metadata": {},
     "output_type": "execute_result"
    }
   ],
   "source": [
    "np.argmax(model.predict(np.array([small.flatten()]))) #our predictiion through mlp"
   ]
  },
  {
   "cell_type": "code",
   "execution_count": null,
   "metadata": {},
   "outputs": [],
   "source": []
  }
 ],
 "metadata": {
  "kernelspec": {
   "display_name": "Python 3",
   "language": "python",
   "name": "python3"
  },
  "language_info": {
   "codemirror_mode": {
    "name": "ipython",
    "version": 3
   },
   "file_extension": ".py",
   "mimetype": "text/x-python",
   "name": "python",
   "nbconvert_exporter": "python",
   "pygments_lexer": "ipython3",
   "version": "3.7.3"
  }
 },
 "nbformat": 4,
 "nbformat_minor": 2
}
